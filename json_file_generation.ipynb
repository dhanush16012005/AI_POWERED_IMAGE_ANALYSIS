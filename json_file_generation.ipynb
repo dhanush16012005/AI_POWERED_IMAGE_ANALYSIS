{
 "cells": [
  {
   "cell_type": "code",
   "execution_count": 3,
   "metadata": {},
   "outputs": [
    {
     "name": "stdout",
     "output_type": "stream",
     "text": [
      "JSON file created: /Users/rohith/Desktop/M3D copy/dataset.json\n"
     ]
    }
   ],
   "source": [
    "import os\n",
    "import json\n",
    "\n",
    "# Base directory\n",
    "base_dir = \"/Users/rohith/Desktop/M3D copy/M3D_Cap_npy\"\n",
    "output_json = \"/Users/rohith/Desktop/M3D copy/dataset.json\"\n",
    "\n",
    "# Subdirectories to scan\n",
    "subfolders = [\"ct_quizze\", \"ct_case\"]\n",
    "\n",
    "# Collect data\n",
    "data = {\"train\": []}\n",
    "\n",
    "for subfolder in subfolders:\n",
    "    subfolder_path = os.path.join(base_dir, subfolder)\n",
    "    if os.path.exists(subfolder_path):\n",
    "        # Sort folder names in ascending order\n",
    "        sorted_folders = sorted(os.listdir(subfolder_path))\n",
    "\n",
    "        for folder in sorted_folders:\n",
    "            folder_path = os.path.join(subfolder_path, folder)\n",
    "            if os.path.isdir(folder_path):\n",
    "                # Look for .npy and text.txt files\n",
    "                npy_files = sorted([f for f in os.listdir(folder_path) if f.endswith(\".npy\")])\n",
    "                text_file = \"text.txt\"\n",
    "\n",
    "                if npy_files and text_file in os.listdir(folder_path):\n",
    "                    for npy in npy_files:\n",
    "                        # Store relative paths\n",
    "                        relative_image_path = f\"M3D_Cap_npy/{subfolder}/{folder}/{npy}\"\n",
    "                        relative_text_path = f\"M3D_Cap_npy/{subfolder}/{folder}/{text_file}\"\n",
    "\n",
    "                        data[\"train\"].append({\n",
    "                            \"image\": relative_image_path,\n",
    "                            \"text\": relative_text_path\n",
    "                        })\n",
    "\n",
    "# Save to JSON\n",
    "with open(output_json, \"w\") as f:\n",
    "    json.dump(data, f, indent=4)\n",
    "\n",
    "print(f\"JSON file created: {output_json}\")\n"
   ]
  },
  {
   "cell_type": "code",
   "execution_count": 1,
   "metadata": {},
   "outputs": [
    {
     "name": "stdout",
     "output_type": "stream",
     "text": [
      "JSON file created: /Users/rohith/Desktop/M3D copy/dataset.json\n"
     ]
    }
   ],
   "source": [
    "import os\n",
    "import json\n",
    "\n",
    "# Base directory\n",
    "base_dir = \"/Users/rohith/Desktop/M3D copy/M3D_Cap_npy\"\n",
    "output_json = \"/Users/rohith/Desktop/M3D copy/dataset.json\"\n",
    "\n",
    "# Subdirectories to scan\n",
    "subfolders = [\"ct_quizze\", \"ct_case\"]\n",
    "\n",
    "# Collect data\n",
    "data = {\"train\": []}\n",
    "\n",
    "for subfolder in subfolders:\n",
    "    subfolder_path = os.path.join(base_dir, subfolder)\n",
    "    if os.path.exists(subfolder_path):\n",
    "        for folder in os.listdir(subfolder_path):\n",
    "            folder_path = os.path.join(subfolder_path, folder)\n",
    "            if os.path.isdir(folder_path):\n",
    "                # Look for .npy and text.txt files\n",
    "                npy_files = [f for f in os.listdir(folder_path) if f.endswith(\".npy\")]\n",
    "                text_file = \"text.txt\"\n",
    "\n",
    "                if npy_files and text_file in os.listdir(folder_path):\n",
    "                    for npy in npy_files:\n",
    "                        data[\"train\"].append({\n",
    "                            \"image\": f\"{subfolder}/{folder}/{npy}\",\n",
    "                            \"text\": f\"{subfolder}/{folder}/{text_file}\"\n",
    "                        })\n",
    "\n",
    "# Save to JSON\n",
    "with open(output_json, \"w\") as f:\n",
    "    json.dump(data, f, indent=4)\n",
    "\n",
    "print(f\"JSON file created: {output_json}\")\n"
   ]
  },
  {
   "cell_type": "code",
   "execution_count": 2,
   "metadata": {},
   "outputs": [
    {
     "name": "stdout",
     "output_type": "stream",
     "text": [
      "JSON file created: /Users/rohith/Desktop/M3D copy/dataset.json\n"
     ]
    }
   ],
   "source": [
    "import os\n",
    "import json\n",
    "\n",
    "# Base directory\n",
    "base_dir = \"/Users/rohith/Desktop/M3D copy/M3D_Cap_npy\"\n",
    "output_json = \"/Users/rohith/Desktop/M3D copy/dataset.json\"\n",
    "\n",
    "# Subdirectories to scan\n",
    "subfolders = [\"ct_quizze\", \"ct_case\"]\n",
    "\n",
    "# Collect data\n",
    "data = {\"train\": []}\n",
    "\n",
    "for subfolder in subfolders:\n",
    "    subfolder_path = os.path.join(base_dir, subfolder)\n",
    "    if os.path.exists(subfolder_path):\n",
    "        for folder in os.listdir(subfolder_path):\n",
    "            folder_path = os.path.join(subfolder_path, folder)\n",
    "            if os.path.isdir(folder_path):\n",
    "                # Look for .npy and text.txt files\n",
    "                npy_files = [f for f in os.listdir(folder_path) if f.endswith(\".npy\")]\n",
    "                text_file = \"text.txt\"\n",
    "\n",
    "                if npy_files and text_file in os.listdir(folder_path):\n",
    "                    for npy in npy_files:\n",
    "                        data[\"train\"].append({\n",
    "                            \"image\": os.path.join(folder_path, npy),\n",
    "                            \"text\": os.path.join(folder_path, text_file)\n",
    "                        })\n",
    "\n",
    "# Save to JSON\n",
    "with open(output_json, \"w\") as f:\n",
    "    json.dump(data, f, indent=4)\n",
    "\n",
    "print(f\"JSON file created: {output_json}\")\n"
   ]
  }
 ],
 "metadata": {
  "kernelspec": {
   "display_name": "llama",
   "language": "python",
   "name": "python3"
  },
  "language_info": {
   "codemirror_mode": {
    "name": "ipython",
    "version": 3
   },
   "file_extension": ".py",
   "mimetype": "text/x-python",
   "name": "python",
   "nbconvert_exporter": "python",
   "pygments_lexer": "ipython3",
   "version": "3.10.15"
  }
 },
 "nbformat": 4,
 "nbformat_minor": 2
}
