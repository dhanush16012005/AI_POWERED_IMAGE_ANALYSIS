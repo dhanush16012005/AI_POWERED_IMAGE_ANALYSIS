{
 "cells": [
  {
   "cell_type": "code",
   "execution_count": 3,
   "metadata": {},
   "outputs": [],
   "source": [
    "import os\n",
    "import numpy as np\n",
    "from PIL import Image\n",
    "import concurrent.futures\n",
    "from tqdm import tqdm\n",
    "from collections import Counter\n",
    "import unicodedata\n",
    "import monai.transforms as mtf\n",
    "from multiprocessing import Pool\n",
    "from unidecode import unidecode\n"
   ]
  },
  {
   "cell_type": "code",
   "execution_count": 4,
   "metadata": {},
   "outputs": [],
   "source": [
    "input_dir = \"/Users/rohith/Desktop/M3D copy/Data/data/test_data/M3D_Cap/ct_quizze/\"\n",
    "output_dir = \"/Users/rohith/Desktop/M3D copy/Data/data/test_data_preprocess/M3D_Cap/ct_quizze/\"\n",
    "\n",
    "# Get all subfolders inside input_dir (e.g., patient IDs)\n",
    "subfolders = [folder for folder in os.listdir(input_dir) if os.path.isdir(os.path.join(input_dir, folder))]\n"
   ]
  },
  {
   "cell_type": "code",
   "execution_count": 5,
   "metadata": {},
   "outputs": [
    {
     "name": "stderr",
     "output_type": "stream",
     "text": [
      "/Users/rohith/Desktop/M3D copy/llama/lib/python3.10/site-packages/monai/utils/deprecate_utils.py:321: FutureWarning: monai.transforms.croppad.array CropForeground.__init__:allow_smaller: Current default value of argument `allow_smaller=True` has been deprecated since version 1.2. It will be changed to `allow_smaller=False` in version 1.5.\n",
      "  warn_deprecated(argname, msg, warning_category)\n"
     ]
    }
   ],
   "source": [
    "transform = mtf.Compose([\n",
    "    mtf.CropForeground(),\n",
    "    mtf.Resize(spatial_size=[32, 256, 256], mode=\"bilinear\")\n",
    "])\n"
   ]
  },
  {
   "cell_type": "code",
   "execution_count": 6,
   "metadata": {},
   "outputs": [],
   "source": [
    "def process_subfolder(subfolder):\n",
    "    output_id_folder = os.path.join(output_dir, subfolder)\n",
    "    input_id_folder = os.path.join(input_dir, subfolder)\n",
    "\n",
    "    os.makedirs(output_id_folder, exist_ok=True)\n",
    "\n",
    "    for subsubfolder in os.listdir(input_id_folder):\n",
    "        if subsubfolder.endswith('.txt'):\n",
    "            text_path = os.path.join(input_id_folder, subsubfolder)\n",
    "            with open(text_path, 'r') as file:\n",
    "                text_content = file.read()\n",
    "\n",
    "            search_text = \"study_findings:\"\n",
    "            index = text_content.find(search_text)\n",
    "\n",
    "            if index != -1:\n",
    "                filtered_text = text_content[index + len(search_text):].replace(\"\\n\", \" \").strip()\n",
    "            else:\n",
    "                filtered_text = text_content.replace(\"\\n\", \" \").strip()\n",
    "\n",
    "            if len(filtered_text.replace(\" \", \"\")) < 5:\n",
    "                search_text = \"discussion:\"\n",
    "                index = text_content.find(search_text)\n",
    "                if index != -1:\n",
    "                    filtered_text = text_content[index + len(search_text):].replace(\"\\n\", \" \").strip()\n",
    "\n",
    "            new_text_path = os.path.join(output_id_folder, subsubfolder)\n",
    "            with open(new_text_path, 'w') as new_file:\n",
    "                new_file.write(filtered_text)\n",
    "\n",
    "        subsubfolder_path = os.path.join(input_id_folder, subsubfolder)\n",
    "\n",
    "        if os.path.isdir(subsubfolder_path):\n",
    "            subsubfolder = unidecode(subsubfolder)  # Remove special characters\n",
    "            output_path = os.path.join(output_id_folder, f'{subsubfolder}.npy')\n",
    "\n",
    "            image_files = sorted(\n",
    "                [file for file in os.listdir(subsubfolder_path) if file.endswith(('.jpeg', '.png'))],\n",
    "                key=lambda x: int(os.path.splitext(x)[0])\n",
    "            )\n",
    "\n",
    "            if len(image_files) == 0:\n",
    "                continue\n",
    "\n",
    "            images_3d = []\n",
    "            for image_file in image_files:\n",
    "                image_path = os.path.join(subsubfolder_path, image_file)\n",
    "                try:\n",
    "                    img = Image.open(image_path).convert(\"L\")\n",
    "                    img_array = np.array(img) / 255.0  # Normalize\n",
    "                    images_3d.append(img_array[None])\n",
    "                except:\n",
    "                    print(f\"Error processing image: {image_path}\")\n",
    "\n",
    "            try:\n",
    "                most_common_shape = Counter([img.shape for img in images_3d]).most_common(1)[0][0]\n",
    "                images_3d_pure = [img for img in images_3d if img.shape == most_common_shape]\n",
    "                final_3d_image = np.vstack(images_3d_pure)[np.newaxis, ...]\n",
    "\n",
    "                # Normalize and apply transforms\n",
    "                final_3d_image = (final_3d_image - final_3d_image.min()) / np.clip(final_3d_image.max(), 1e-8, None)\n",
    "                img_trans = transform(final_3d_image)\n",
    "\n",
    "                np.save(output_path, img_trans)\n",
    "            except:\n",
    "                print(f\"VStack error in folder: {output_path}\")\n"
   ]
  },
  {
   "cell_type": "code",
   "execution_count": 7,
   "metadata": {},
   "outputs": [
    {
     "name": "stderr",
     "output_type": "stream",
     "text": [
      "Processing:   6%|▌         | 116/2000 [01:33<12:21,  2.54it/s] "
     ]
    },
    {
     "name": "stdout",
     "output_type": "stream",
     "text": [
      "Error processing image: /Users/rohith/Desktop/M3D copy/Data/data/test_data/M3D_Cap/ct_quizze/009659/Axial_C__portal_venous_phase/152.png\n"
     ]
    },
    {
     "name": "stderr",
     "output_type": "stream",
     "text": [
      "Processing:  22%|██▏       | 434/2000 [06:13<06:55,  3.77it/s]   /Users/rohith/Desktop/M3D copy/llama/lib/python3.10/site-packages/PIL/Image.py:1000: UserWarning: Palette images with Transparency expressed in bytes should be converted to RGBA images\n",
      "  warnings.warn(\n",
      "Processing:  34%|███▍      | 675/2000 [09:56<8:04:06, 21.92s/it]"
     ]
    },
    {
     "ename": "",
     "evalue": "",
     "output_type": "error",
     "traceback": [
      "\u001b[1;31mThe Kernel crashed while executing code in the current cell or a previous cell. \n",
      "\u001b[1;31mPlease review the code in the cell(s) to identify a possible cause of the failure. \n",
      "\u001b[1;31mClick <a href='https://aka.ms/vscodeJupyterKernelCrash'>here</a> for more info. \n",
      "\u001b[1;31mView Jupyter <a href='command:jupyter.viewOutput'>log</a> for further details."
     ]
    }
   ],
   "source": [
    "for subfolder in tqdm(subfolders, desc=\"Processing\"):\n",
    "    process_subfolder(subfolder)\n"
   ]
  }
 ],
 "metadata": {
  "kernelspec": {
   "display_name": "llama",
   "language": "python",
   "name": "python3"
  },
  "language_info": {
   "codemirror_mode": {
    "name": "ipython",
    "version": 3
   },
   "file_extension": ".py",
   "mimetype": "text/x-python",
   "name": "python",
   "nbconvert_exporter": "python",
   "pygments_lexer": "ipython3",
   "version": "3.10.15"
  }
 },
 "nbformat": 4,
 "nbformat_minor": 2
}
